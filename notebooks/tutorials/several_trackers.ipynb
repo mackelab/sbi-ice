{
 "cells": [
  {
   "cell_type": "markdown",
   "metadata": {},
   "source": [
    "# Using the simulator to track ice volumes\n",
    "\n",
    "In this tutorial, we use the `Tracker` functionality of the Layer Tracer Simulator to track the progression of a block of ice.\n",
    "See `layer_tracer_tutorial` for details on the simulator.\n",
    "\n",
    "## Loading Posterior\n",
    "\n",
    "In this tutorial, we set the accumulation and melting to be that of the posterior maximum-a-posterior (MAP) estimate,\n",
    "which is the most likely model from our posterior. For this, we begin by first loading the posterior."
   ]
  },
  {
   "cell_type": "code",
   "execution_count": null,
   "metadata": {},
   "outputs": [],
   "source": [
    "%load_ext autoreload\n",
    "%autoreload 2\n",
    "\n",
    "from pathlib import Path\n",
    "import numpy as np\n",
    "import torch\n",
    "import matplotlib.pyplot as plt\n",
    "import pandas as pd\n",
    "import pickle\n",
    "from sbi.utils import get_density_thresholder, RestrictedPrior, BoxUniform,process_prior\n",
    "from torch.distributions import MultivariateNormal\n",
    "import os\n",
    "from omegaconf import DictConfig,OmegaConf\n",
    "from sbi_ice.loaders import ShortProfileLoader\n",
    "import sbi.analysis as analysis\n",
    "from sbi_ice.utils import posterior_utils,modelling_utils,plotting_utils,misc\n",
    "from sbi_ice.simulators import Layer_Tracing_Sim as lts\n",
    "import sbi_ice.utils.noise_model as noise_model\n",
    "\n",
    "\n",
    "data_dir,output_dir = misc.get_data_output_dirs()\n",
    "work_folder = misc.get_project_root()\n",
    "color_opts = plotting_utils.setup_plots()\n"
   ]
  },
  {
   "cell_type": "code",
   "execution_count": null,
   "metadata": {},
   "outputs": [],
   "source": [
    "shelf = \"Ekstrom\"\n",
    "exp = \"exp2\"\n",
    "name = \"all_final\"\n",
    "seed = \"layer_0_seed_101\" #top layer\n",
    "fol = Path(output_dir , shelf, exp, \"sbi_sims/post_predictives\" , name,seed)\n",
    "cfg_path = Path(fol,\"config.yaml\")\n",
    "cfg = OmegaConf.load(cfg_path)\n",
    "config_fol = cfg.posterior_config_fol\n",
    "config_fol = Path(output_dir,shelf,exp,\"sbi_sims/posteriors\",name)\n",
    "print(\"Path to config file: \" , Path(config_fol,str(cfg.name),\"config.yaml\"))\n",
    "\n",
    "\n",
    "n_post_samples = cfg.n_post_samples\n",
    "n_predictive_sims = cfg.n_predictive_sims\n",
    "print(\"number of predictive sims loaded: \" , n_predictive_sims)\n",
    "overwrite = cfg.overwrite_saved_sims\n",
    "posterior_config = OmegaConf.load(Path(config_fol,str(cfg.name),\"config.yaml\"))\n",
    "print(\"Path to posterior config file: \" ,posterior_config)\n",
    "\n",
    "\n",
    "paths = posterior_config.paths\n",
    "device = torch.device(\"cuda\" if torch.cuda.is_available() else \"cpu\")\n",
    "output_fol = os.getcwd()\n",
    "print(\"Path to output folder where sims are stored: \", output_fol)\n",
    "\n",
    "shelf_setup_path = paths.shelf_setup_path\n",
    "print(\"Setup file for shelf: \", shelf_setup_path)\n",
    "\n",
    "\n",
    "shelf_folder_path = paths.shelf_folder_path\n",
    "exp_path = paths.exp_path\n",
    "\n",
    "print(\"Read Config files\")\n",
    "loader = ShortProfileLoader.ShortProfileLoader(Path(work_folder,shelf_setup_path),Path(work_folder,shelf_folder_path),exp_path,sims_path=\"layer_sims\",gt_version = posterior_config.gt_version)\n",
    "loader._jobs = [i for i in range(1,200)]\n",
    "loader._num_sims = [1000 for i in range(1,200)]\n",
    "loader.total_sims = 1000*200\n",
    "print(\"Set up data loader\")"
   ]
  },
  {
   "cell_type": "code",
   "execution_count": null,
   "metadata": {},
   "outputs": [],
   "source": [
    "with open(Path(config_fol,str(cfg.name),\"inference.p\"), \"rb\") as f:\n",
    "    if device.type == \"cpu\":\n",
    "        out = posterior_utils.CPU_Unpickler(f).load()\n",
    "    else:\n",
    "        out = pickle.load(f)\n",
    "\n",
    "\n",
    "inference = out[\"inference\"]\n",
    "prior = out[\"prior\"]\n",
    "layer_mask = out[\"layer_mask\"]\n",
    "smb_mask = out[\"smb_mask\"]\n",
    "true_layer = torch.tensor(loader.real_layers[cfg.layer_idx][layer_mask]).float()\n",
    "posterior = inference.build_posterior(inference._neural_net.to(\"cpu\"))\n",
    "posterior.set_default_x(true_layer)\n",
    "samples = posterior.sample((n_post_samples,))\n",
    "\n",
    "posterior_smb_map = posterior.map()\n",
    "\n",
    "print(posterior_smb_map)"
   ]
  },
  {
   "cell_type": "markdown",
   "metadata": {},
   "source": [
    "# Defining Simulator\n",
    "\n",
    "Now that we have the accumulation we want to run the model with, we can set up and run the simulator with this parameter.\n",
    "\n"
   ]
  },
  {
   "cell_type": "code",
   "execution_count": null,
   "metadata": {},
   "outputs": [],
   "source": [
    "name = \"Ekstrom\"\n",
    "data_file = Path(data_dir,name,\"setup_files\",\"flowtube_full.csv\")\n",
    "\n",
    "\n",
    "df = pd.read_csv(data_file)\n",
    "xmb = df[\"x_coord\"].to_numpy() #x - coordinates of domain\n",
    "tmb = df[\"tmb\"].to_numpy() #total mass balance\n",
    "Lx = xmb.max() - xmb.min()\n",
    "\n",
    "nx_iso             = 500 # Number of points in the x-direction\n",
    "ny_iso             = 1 # Number of points in the y-direction\n",
    "dt                 = 0.5 # [yr] timestep for advection scheme\n",
    "\n",
    "\n",
    "geom = lts.Geom(nx_iso=nx_iso,ny_iso=ny_iso) #This will be the main object we interact with\n",
    "\n",
    "## Interpolating onto simulation grid\n",
    "# The resolution we infer the smb for is coarser than what we want to simulate with.\n",
    "# As a rough approximation, let us define the posterior mean smb on the finer simulation grid by interpolation.\n",
    "smb_regrid = modelling_utils.regrid(loader.x[smb_mask],posterior_smb_map.detach().numpy(),xmb)\n",
    "\n",
    "\n",
    "\n",
    "smb_regrid,bmb_regrid = lts.init_geom_from_fname(geom,data_file,smb=smb_regrid)\n",
    "\n",
    "fig,ax = plt.subplots(1,1,figsize = (4,2))\n",
    "ax.plot(xmb/1000,smb_regrid,color = plotting_utils.color_opts[\"colors\"][\"prior\"],alpha = 0.3)\n",
    "ax.set_xlabel(\"Distance from GL [km]\")\n",
    "ax.set_ylabel(\"posterior SMB MAP [m/yr]\")\n"
   ]
  },
  {
   "cell_type": "code",
   "execution_count": null,
   "metadata": {},
   "outputs": [],
   "source": [
    "n_surface_phase1 = 25\n",
    "n_base_phase1 = 100\n",
    "time_phase1 = 2000\n",
    "n_surface_phase2 = 2\n",
    "n_base_phase2 = 50\n",
    "time_phase2 = 1000\n",
    "\n",
    "sched1 = lts.Scheduele(time_phase1,dt,n_surface_phase1,n_base_phase1)\n",
    "sched2 = lts.Scheduele(time_phase2,dt,n_surface_phase2,n_base_phase2)\n",
    "print(sched1.total_iterations)\n",
    "print(sched2.total_iterations)"
   ]
  },
  {
   "cell_type": "code",
   "execution_count": null,
   "metadata": {},
   "outputs": [],
   "source": [
    "#Now simulate\n",
    "\n",
    "geom.initialize_layers(sched2,100,tracker_coords=np.array([[0.0,0.0],[0.0,100.0],[0.0,150.0]])) #trackers are seeded in (x,depth) coordinates\n",
    "# lts.sim(geom,smb_regrid,bmb_regrid,sched1)\n",
    "# #Can save intermediate results here if we want\n",
    "# geom.initialize_layers(sched2,0)\n",
    "# lts.sim(geom,smb_regrid,bmb_regrid,sched2)"
   ]
  },
  {
   "cell_type": "markdown",
   "metadata": {},
   "source": [
    "# Initial Simulator Setup"
   ]
  },
  {
   "cell_type": "code",
   "execution_count": null,
   "metadata": {},
   "outputs": [],
   "source": [
    "fig,axs = plotting_utils.plot_isochrones_1d(geom.x,geom.bs.flatten(),geom.ss.flatten(),geom.dsum_iso[:,0,::10],geom.age_iso[::10],bmb_regrid,smb_regrid,real_layers=None,trackers=None)\n",
    "trackers = geom.extract_active_trackers()\n",
    "print(trackers)\n",
    "axs[1].scatter(trackers[:,0]/1000,trackers[:,2],color = \"brown\")"
   ]
  },
  {
   "cell_type": "markdown",
   "metadata": {},
   "source": [
    "# Simulate"
   ]
  },
  {
   "cell_type": "code",
   "execution_count": null,
   "metadata": {},
   "outputs": [],
   "source": [
    "geom.initialize_layers(sched1,10)\n",
    "lts.sim(geom,smb_regrid,bmb_regrid,sched1)\n",
    "#Can save intermediate results here if we want\n",
    "geom.initialize_layers(sched2,0)\n",
    "lts.sim(geom,smb_regrid,bmb_regrid,sched2)"
   ]
  },
  {
   "cell_type": "code",
   "execution_count": null,
   "metadata": {},
   "outputs": [],
   "source": [
    "fig,axs = plotting_utils.plot_isochrones_1d(geom.x,geom.bs.flatten(),geom.ss.flatten(),geom.dsum_iso[:,0,::10],geom.age_iso[::10],bmb_regrid,smb_regrid,real_layers=None,trackers=None)\n",
    "trackers = geom.extract_active_trackers()\n",
    "print(trackers)\n",
    "axs[1].scatter(trackers[::25,0]/1000,trackers[::25,2],color = \"brown\")\n",
    "# axs[1].set_xlim(-5,10)\n",
    "# axs[1].set_ylim(-50,150)"
   ]
  },
  {
   "cell_type": "markdown",
   "metadata": {},
   "source": [
    "# Extract data"
   ]
  },
  {
   "cell_type": "code",
   "execution_count": null,
   "metadata": {},
   "outputs": [],
   "source": [
    "data = np.array([trackers[-1::-3,0],trackers[-1::-3,2],trackers[-2::-3,0],trackers[-2::-3,2],trackers[-3::-3,0],trackers[-3::-3,2]]).T\n",
    "print(data.shape) \n",
    "tracker_df = pd.DataFrame(data=data,\n",
    "                  columns= [\"P1_x\",\"P1_z\",\"P2_x\",\"P2_z\",\"P3_x\",\"P3_z\"])\n",
    "\n",
    "print(tracker_df)\n",
    "tracker_df.to_csv(Path(output_dir,\"Ekstrom\",\"scratch\",\"trackers.csv\"),index=False)"
   ]
  },
  {
   "cell_type": "code",
   "execution_count": null,
   "metadata": {},
   "outputs": [],
   "source": [
    "out_df = df.copy()\n",
    "out_df[\"bmb\"] = bmb_regrid\n",
    "out_df[\"smb\"] = smb_regrid\n",
    "out_df.to_csv(Path(output_dir,\"Ekstrom\",\"scratch\",\"flowtube_full.csv\"),index=False)"
   ]
  },
  {
   "cell_type": "code",
   "execution_count": null,
   "metadata": {},
   "outputs": [],
   "source": [
    "out_df"
   ]
  }
 ],
 "metadata": {
  "kernelspec": {
   "display_name": "sbi_ice",
   "language": "python",
   "name": "python3"
  },
  "language_info": {
   "codemirror_mode": {
    "name": "ipython",
    "version": 3
   },
   "file_extension": ".py",
   "mimetype": "text/x-python",
   "name": "python",
   "nbconvert_exporter": "python",
   "pygments_lexer": "ipython3",
   "version": "3.9.16"
  }
 },
 "nbformat": 4,
 "nbformat_minor": 2
}

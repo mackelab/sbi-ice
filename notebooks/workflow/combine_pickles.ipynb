{
 "cells": [
  {
   "cell_type": "markdown",
   "metadata": {},
   "source": [
    "This notebook is used to combine the processed results file per job into one file, which is then quicker to load than many separate files."
   ]
  },
  {
   "cell_type": "code",
   "execution_count": null,
   "metadata": {},
   "outputs": [],
   "source": [
    "#TODO: absorb this into one of the main scripts, or load directly from per-job pickles.\n",
    "\n",
    "%load_ext autoreload \n",
    "%autoreload 2\n",
    "\n",
    "from pathlib import Path,PurePath\n",
    "from hydra.utils import to_absolute_path\n",
    "import numpy as np\n",
    "import torch\n",
    "from sbi_ice.loaders import BaseLoader,ShortProfileLoader\n",
    "from sbi_ice.utils.modelling_utils import regrid\n",
    "from sbi_ice.utils.noise_model import best_contour,depth_error\n",
    "import pickle\n",
    "import matplotlib.pyplot as plt\n"
   ]
  },
  {
   "cell_type": "code",
   "execution_count": null,
   "metadata": {},
   "outputs": [],
   "source": [
    "shelf = \"Ekstrom\"\n",
    "exp = \"exp2\"\n",
    "# shelf = \"Synthetic_long\"\n",
    "# exp = \"exp3\"\n",
    "hydra_dir = to_absolute_path(\"../../out/\" + shelf)\n",
    "setup_dir = to_absolute_path(\"../../data/\" + shelf + \"/setup_files\")\n",
    "gt_version = \"v0\"\n",
    "selection_method = \"advanced_noise\"\n",
    "\n",
    "#Create dataloader for experiment\n",
    "loader = ShortProfileLoader.ShortProfileLoader(Path(setup_dir),Path(hydra_dir),exp,sims_path =\"layer_sims\",gt_version=gt_version)\n",
    "\n",
    "#Iterate through all jobs and combine the processed layers for that job into one file.\n",
    "contour_arrays_out = []\n",
    "norm_arrays_out = []\n",
    "age_arrays_out = []\n",
    "smb_unperturbed_out = []\n",
    "smb_cnst_means_out = []\n",
    "smb_sds_out = []\n",
    "smb_out = []\n",
    "bmb_out = []\n",
    "for job in loader._jobs:\n",
    "    print(job)\n",
    "    processed_fname = Path(loader._fol_path, loader._exp_path,\"layer_sims\",str(job),\"all_layers.p\")\n",
    "    mb_fname = Path(loader._fol_path, loader._exp_path,\"layer_sims\",str(job),\"all_mbs.p\")\n",
    "\n",
    "    with open(processed_fname, \"rb\") as fh:\n",
    "        contour_arrays,norm_arrays,age_arrays = pickle.load(fh).values()\n",
    "    with open(mb_fname, \"rb\") as fh:\n",
    "        smb_unperturbed_all,smb_cnst_means_all,smb_sds_all,smb_all,bmb_all = pickle.load(fh).values()\n",
    "    contour_arrays_out.append(contour_arrays)\n",
    "    norm_arrays_out.append(norm_arrays)\n",
    "    age_arrays_out.append(age_arrays)\n",
    "    smb_unperturbed_out.append(smb_unperturbed_all)\n",
    "    smb_cnst_means_out.append(smb_cnst_means_all)\n",
    "    smb_sds_out.append(smb_sds_all)\n",
    "    smb_out.append(smb_all)\n",
    "    bmb_out.append(bmb_all)\n",
    "\n",
    "print(contour_arrays_out[0].shape)\n",
    "print(norm_arrays_out[0].shape)\n",
    "print(age_arrays_out[0].shape)\n",
    "print(smb_unperturbed_out[0].shape)\n",
    "print(smb_cnst_means_out[0].shape)\n",
    "print(smb_sds_out[0].shape)\n",
    "print(smb_out[0].shape)\n",
    "print(bmb_out[0].shape)\n",
    "\n",
    "contour_arrays_out = torch.cat(contour_arrays_out,dim=1)\n",
    "norm_arrays_out = torch.cat(norm_arrays_out,dim=1)\n",
    "age_arrays_out = torch.cat(age_arrays_out,dim=1)\n",
    "smb_unperturbed_out = torch.cat(smb_unperturbed_out,dim=0)\n",
    "smb_cnst_means_out = torch.cat(smb_cnst_means_out,dim=0)\n",
    "smb_sds_out = torch.cat(smb_sds_out,dim=0)\n",
    "smb_out = torch.cat(smb_out,dim=0)\n",
    "bmb_out = torch.cat(bmb_out,dim=0)\n",
    "\n",
    "with open(Path(loader._fol_path, loader._exp_path,\"all_layers_test.p\"), \"wb\") as fh:\n",
    "    pickle.dump({\"contour_arrays\":contour_arrays_out,\"norm_arrays\":norm_arrays_out,\"age_arrays\":age_arrays_out}, fh)\n",
    "with open(Path(loader._fol_path, loader._exp_path,\"all_mbs_test.p\"), \"wb\") as fh:\n",
    "    pickle.dump({\"smb_unperturbed_all\":smb_unperturbed_out,\"smb_cnst_means_all\":smb_cnst_means_out,\"smb_sds_all\":smb_sds_out,\"smb_all\":smb_out,\"bmb_all\":bmb_out}, fh)"
   ]
  },
  {
   "cell_type": "code",
   "execution_count": null,
   "metadata": {},
   "outputs": [],
   "source": []
  }
 ],
 "metadata": {
  "kernelspec": {
   "display_name": "isos2",
   "language": "python",
   "name": "python3"
  },
  "language_info": {
   "codemirror_mode": {
    "name": "ipython",
    "version": 3
   },
   "file_extension": ".py",
   "mimetype": "text/x-python",
   "name": "python",
   "nbconvert_exporter": "python",
   "pygments_lexer": "ipython3",
   "version": "3.10.10"
  }
 },
 "nbformat": 4,
 "nbformat_minor": 2
}

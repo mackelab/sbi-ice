{
 "cells": [
  {
   "cell_type": "markdown",
   "metadata": {},
   "source": [
    "# Create real_layers.csv file for Ekstrom"
   ]
  },
  {
   "cell_type": "code",
   "execution_count": null,
   "metadata": {},
   "outputs": [],
   "source": [
    "%load_ext autoreload\n",
    "%autoreload 2\n",
    "\n",
    "import numpy as np\n",
    "import scipy.io\n",
    "from pathlib import Path\n",
    "import matplotlib.pyplot as plt\n",
    "import matplotlib as mpl\n",
    "import pandas as pd\n",
    "from scipy.interpolate import UnivariateSpline\n",
    "from matplotlib.ticker import FormatStrFormatter\n",
    "\n",
    "from tueplots import figsizes\n",
    "from sbi_ice.utils import plotting_utils,misc,modelling_utils,noise_model\n",
    "data_dir,output_dir = misc.get_data_output_dirs()\n",
    "color_opts = plotting_utils.setup_plots()\n"
   ]
  },
  {
   "cell_type": "code",
   "execution_count": null,
   "metadata": {},
   "outputs": [],
   "source": [
    "#Load radar data product\n",
    "print(Path(data_dir,\"Ekstrom\",\"IRH_data\",\"Ekstroem_flowline_GPR_IRH_data.mat\"))\n",
    "mat = scipy.io.loadmat(Path(data_dir,\"Ekstrom\",\"IRH_data\",\"Ekstroem_flowline_GPR_IRH_data.mat\"))\n",
    "shelf_mask = scipy.io.loadmat(Path(data_dir,\"Ekstrom\",\"IRH_data\",\"LayerData_flowline_mask.mat\"))['save_in'].astype(bool).flatten()\n"
   ]
  },
  {
   "cell_type": "code",
   "execution_count": null,
   "metadata": {},
   "outputs": [],
   "source": [
    "# Spline interpolate coordinates to get correct distance measurements along path.\n",
    "\n",
    "coordinates = np.array([(x, y) for x,y in zip(mat['psX'].T,mat['psY'].T)])[:,:,0]\n",
    "print(coordinates.shape)\n",
    "coordinates = coordinates[shelf_mask]\n",
    "print(coordinates.shape)\n",
    "coordinates = modelling_utils.trunc(coordinates,0)\n",
    "dist = np.concatenate((np.array([0.0]),np.cumsum(np.sqrt((coordinates[1:,0]-coordinates[:-1,0])**2 + (coordinates[1:,1]-coordinates[:-1,1])**2))))\n",
    "\n",
    "smoothing_constant = 5.0e5\n",
    "npoints = dist.size\n",
    "print(\"number of points: \",npoints)\n",
    "print(\"smoothing constant lower bound: \",npoints - np.sqrt(2*npoints))\n",
    "print(\"smoothing constant upper bound: \",npoints + np.sqrt(2*npoints))\n",
    "\n",
    "\n",
    "alpha = np.linspace(0, dist[-1],dist.size)\n",
    "#splines = [UnivariateSpline(dist, coords, s=smoothing_constant) for coords in coordinates.T]\n",
    "splines = [UnivariateSpline(dist, coords, w = 0.05*np.ones(coords.size),s=npoints) for coords in coordinates.T]\n",
    "interpolated_points = np.vstack([spl(alpha) for spl in splines]).T\n",
    "\n",
    "\n",
    "new_dist = np.cumsum( np.sqrt(np.sum( np.diff(interpolated_points, axis=0)**2, axis=1 )) )\n",
    "new_dist = np.insert(new_dist, 0, 0)\n",
    "\n",
    "print(dist[-1])\n",
    "print(new_dist[-1])\n",
    "dist = new_dist.copy()\n",
    "\n",
    "\n",
    "\n",
    "coordinates = interpolated_points.copy()\n"
   ]
  },
  {
   "cell_type": "code",
   "execution_count": null,
   "metadata": {},
   "outputs": [],
   "source": [
    "#Calculate elevation from traveltime (we don't use depth-density relation here, to match with radar product).\n",
    "\n",
    "eps_i = 3.15\n",
    "eps = (np.sqrt(3)*eps_i)**3\n",
    "c_light = 3.0e8\n",
    "c_ice = c_light/np.sqrt(eps)\n",
    "z = np.linspace(0.0,1000.0,5504)\n",
    "rho = 917.0\n",
    "\n",
    "def ref_ind_const_density(rho):\n",
    "    return ((1/noise_model.rho_ice)*rho*(np.cbrt(3.15)-1)+1)**3\n",
    "def twt2depth_const_density(twt,z,rho):\n",
    "    v = c_light/(np.sqrt(ref_ind_const_density(rho)))\n",
    "\n",
    "    dts = np.concatenate((np.array([0]),np.diff(z)))/v\n",
    "    traveltimedepth = np.cumsum(dts)\n",
    "    depth = np.zeros_like(twt)\n",
    "    for i in range(0,twt.shape[0]):\n",
    "        depth[i] = np.nan if not twt[i]>0 else z[np.argmin(np.abs(traveltimedepth-twt[i]/2))]\n",
    "    return depth\n",
    "\n",
    "\n",
    "sur_elevation = mat['elev_sur_bedmachine'].flatten()[shelf_mask]\n",
    "layer_twt = mat['twt_layers'][:,shelf_mask]/1e9\n",
    "layer_depth = np.zeros_like(layer_twt)\n",
    "for i in range(layer_depth.shape[0]):\n",
    "    layer_depth[i] = twt2depth_const_density(layer_twt[i],z,rho)\n",
    "\n",
    "\n",
    "l2_depth = mat[\"depth_layers\"][:,shelf_mask]\n",
    "#Sanity check\n",
    "print(layer_depth)\n",
    "print(l2_depth)\n",
    "\n",
    "\n",
    "mat_dist = mat['distance'].flatten()[shelf_mask]\n",
    "print(mat_dist-dist)\n"
   ]
  },
  {
   "cell_type": "code",
   "execution_count": null,
   "metadata": {},
   "outputs": [],
   "source": [
    "#Plot layer elevations\n",
    "\n",
    "fig,axs = plt.subplots(figsize=(15,10))\n",
    "\n",
    "dist_km = dist/1000\n",
    "axs.plot(dist_km,sur_elevation,color='tab:blue')\n",
    "print(layer_depth.shape[0])\n",
    "axs.set_xlabel(\"Distance from GL [km]\")\n",
    "axs.set_ylabel(\"Elevation [m.a.s.l]\")\n",
    "for i in range(layer_depth.shape[0]):\n",
    "        axs.plot(dist_km,sur_elevation-layer_depth[i],'r')\n",
    "        axs.plot(dist_km,sur_elevation - l2_depth[i],'g--')\n",
    "        print(np.mean(layer_depth[i][~np.isnan(layer_depth[i])]))\n",
    "\n"
   ]
  },
  {
   "cell_type": "code",
   "execution_count": null,
   "metadata": {},
   "outputs": [],
   "source": [
    "#save layer depths\n",
    "df = pd.DataFrame(dist,columns = ['x_coord'])\n",
    "for i in range(layer_depth.shape[0]):\n",
    "    df['layer {}'.format(i+1)] = l2_depth[i,:]\n",
    "output_file = Path(output_dir,\"Ekstrom\",\"real_layers.csv\")\n",
    "df.to_csv(output_file)"
   ]
  },
  {
   "cell_type": "code",
   "execution_count": null,
   "metadata": {},
   "outputs": [],
   "source": []
  }
 ],
 "metadata": {
  "kernelspec": {
   "display_name": "firedrake",
   "language": "python",
   "name": "python3"
  },
  "language_info": {
   "codemirror_mode": {
    "name": "ipython",
    "version": 3
   },
   "file_extension": ".py",
   "mimetype": "text/x-python",
   "name": "python",
   "nbconvert_exporter": "python",
   "pygments_lexer": "ipython3",
   "version": "3.9.16"
  },
  "orig_nbformat": 4
 },
 "nbformat": 4,
 "nbformat_minor": 2
}

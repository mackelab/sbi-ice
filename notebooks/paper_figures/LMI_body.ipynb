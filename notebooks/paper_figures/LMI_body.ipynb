{
 "cells": [
  {
   "cell_type": "code",
   "execution_count": null,
   "metadata": {},
   "outputs": [],
   "source": [
    "%load_ext autoreload\n",
    "%autoreload 2\n",
    "\n",
    "from pathlib import Path\n",
    "import numpy as np\n",
    "import matplotlib.pyplot as plt\n",
    "import pandas as pd\n",
    "import torch\n",
    "from sklearn.gaussian_process import GaussianProcessRegressor\n",
    "from sklearn.gaussian_process.kernels import Matern\n",
    "from sbi_ice.simulators import Layer_Tracing_Sim as lts\n",
    "from sbi.utils import process_prior\n",
    "from sbi_ice.utils import custom_priors\n",
    "from tueplots import figsizes\n",
    "from sbi_ice.utils import plotting_utils,misc\n",
    "data_dir,output_dir = misc.get_data_output_dirs()\n",
    "\n",
    "color_opts = plotting_utils.setup_plots()"
   ]
  },
  {
   "cell_type": "markdown",
   "metadata": {},
   "source": [
    "# LMI Body Figure\n",
    "\n",
    "Here we demonstrate what the LMI boundary is in our simulations (appendix figure)."
   ]
  },
  {
   "cell_type": "code",
   "execution_count": null,
   "metadata": {},
   "outputs": [],
   "source": [
    "#Load synthetic shelf data\n",
    "\n",
    "data_file = Path(data_dir,\"Synthetic_long\",\"setup_files\",\"flowtube_tmb_final.csv\")\n",
    "\n",
    "df = pd.read_csv(data_file)\n",
    "xmb = df[\"x_coord\"].to_numpy() #x - coordinates of domain\n",
    "tmb = df[\"tmb\"].to_numpy() #total mass balance\n",
    "Lx = xmb.max() - xmb.min()\n",
    "\n",
    "nx_iso             = 500 # Number of points in the x-direction\n",
    "ny_iso             = 1 # Number of points in the y-direction\n",
    "dt                 = 0.5 # [yr] timestep for advection scheme\n",
    "\n",
    "\n",
    "geom = lts.Geom(nx_iso=nx_iso,ny_iso=ny_iso) #This will be the main object we interact with\n",
    "\n",
    "\n",
    "\n"
   ]
  },
  {
   "cell_type": "markdown",
   "metadata": {},
   "source": [
    "## Define SMB (and BMB) profiles"
   ]
  },
  {
   "cell_type": "code",
   "execution_count": null,
   "metadata": {},
   "outputs": [],
   "source": [
    "torch.manual_seed(400) #Set the seed for reproducibility\n",
    "\n",
    "#We use a perturbed GP prior. First, we have a regular GP prior with mean 0, variance 1, and a specified lengthscale (with a Matern kernel).\n",
    "#We then perturb the GP samples by multiplying them by a variance factor and adding a constant mean, which are independently sampled from specified distributions.\n",
    "\n",
    "\n",
    "GP_mean_mu= 0.5 #If GP mean sampled from a Gaussian, this is the mean of that Gaussian\n",
    "GP_mean_sd= 0.25 #If GP mean sampled from a Gaussian, this is the standard deviation of that Gaussian\n",
    "# GP_mean_min = 0.0 #If GP mean sampled from a uniform, this is the minimum of that uniform\n",
    "# GP_mean_max = 1.0 #If GP mean sampled from a uniform, this is the maximum of that uniform\n",
    "GP_var_min= 0.1 #Minimum variance of GP\n",
    "GP_var_max= 0.3 #Maximum variance of GP\n",
    "length_scale= 2.5E+3 #Length scale of GP\n",
    "nu= 2.5 #Smoothness of GP\n",
    "\n",
    "ker =  Matern(length_scale=length_scale,nu=nu) #Matern kernel as Gaussian is too smooth\n",
    "gpr = GaussianProcessRegressor(kernel=ker)\n",
    "mvn_mean,mvn_cov = gpr.predict(xmb.reshape(-1,1),return_cov=True) #We take the usual GP marginalized covariance on our grid, and make sure it is positive definite by adding a small diagonal matrix\n",
    "eps = 1e-6\n",
    "a = np.zeros(shape = mvn_cov.shape)\n",
    "np.fill_diagonal(a,eps)\n",
    "mvn_cov += a\n",
    "mvn_mean = torch.from_numpy(mvn_mean)\n",
    "mvn_cov = torch.from_numpy(mvn_cov)\n",
    "custom_prior = custom_priors.AppendedMVN(torch.tensor([GP_mean_mu]),torch.tensor([GP_mean_sd]),torch.tensor([GP_var_min]),\n",
    "                                            torch.tensor([GP_var_max]),mvn_mean,mvn_cov)\n",
    "\n",
    "# This is a function from the sbi utils, making it easier to sample from the prior and enforces strict bounds on the prior.\n",
    "prior, *_ = process_prior(custom_prior,\n",
    "                            custom_prior_wrapper_kwargs=dict(lower_bound=torch.cat((torch.tensor([GP_mean_mu-3*GP_mean_sd,GP_var_min]),-5.0*torch.ones(mvn_mean.size()))), \n",
    "                                                            upper_bound=torch.cat((torch.tensor([GP_mean_mu+3*GP_mean_sd,GP_var_max]),5.0*torch.ones(mvn_mean.size())))))\n",
    "\n",
    "\n",
    "# prior, *_ = process_prior(custom_prior,\n",
    "#                             custom_prior_wrapper_kwargs=dict(lower_bound=torch.cat((torch.tensor([GP_mean_min,GP_var_min]),-2.0*torch.ones(mvn_mean.size()))), \n",
    "#                                                             upper_bound=torch.cat((torch.tensor([GP_mean_max,GP_var_max]),2.0*torch.ones(mvn_mean.size())))))\n",
    "\n",
    "#We sample a lot of smbs from this prior for plotting purposes, but only take one to use in the simulation.\n",
    "samples = custom_prior.sample((1,)).numpy()\n",
    "bmb_list = []\n",
    "smb_cnst_mean_array = samples[:,0]\n",
    "smb_sd_array= samples[:,1]\n",
    "smb_unperturbed_array = samples[:,2:]\n",
    "smb_samples = np.expand_dims(smb_cnst_mean_array,1) + np.expand_dims(smb_sd_array,1)*smb_unperturbed_array\n",
    "\n",
    "smb_cnst_mean = smb_cnst_mean_array[0].copy()\n",
    "smb_sd = smb_sd_array[0].copy()\n",
    "smb_unperturbed = smb_unperturbed_array[0].copy()\n",
    "smb = smb_samples[0].copy()\n",
    "\n",
    "#Plot the smb samples\n",
    "fig,ax = plt.subplots(1,1,figsize = (4,2))\n",
    "ax.plot(xmb,smb_samples[:20].T,color = plotting_utils.color_opts[\"colors\"][\"prior\"],alpha = 0.3)\n",
    "#Finally, set the smb and bmb fields of the geom object.\n",
    "smb_regrid,bmb_regrid = lts.init_geom_from_fname(geom,data_file,smb=smb)"
   ]
  },
  {
   "cell_type": "markdown",
   "metadata": {},
   "source": [
    "# Simulate layers"
   ]
  },
  {
   "cell_type": "code",
   "execution_count": null,
   "metadata": {},
   "outputs": [],
   "source": [
    "n_surface_phase1 = 25\n",
    "n_base_phase1 = 100\n",
    "time_phase1 = 500\n",
    "n_surface_phase2 = 2\n",
    "n_base_phase2 = 20\n",
    "time_phase2 = 500\n",
    "n_surface_phase3 = 1\n",
    "n_base_phase3 = 1\n",
    "time_phase3 = 50\n",
    "\n",
    "sched1 = lts.Scheduele(time_phase1,dt,n_surface_phase1,n_base_phase1)\n",
    "sched2 = lts.Scheduele(time_phase2,dt,n_surface_phase2,n_base_phase2)\n",
    "sched3 = lts.Scheduele(time_phase3,dt,n_surface_phase3,n_base_phase3)"
   ]
  },
  {
   "cell_type": "code",
   "execution_count": null,
   "metadata": {},
   "outputs": [],
   "source": [
    "#Now simulate\n",
    "\n",
    "geom.initialize_layers(sched1,10)\n",
    "lts.sim(geom,smb_regrid,bmb_regrid,sched1)\n",
    "#Can save intermediate results here if we want\n",
    "geom.initialize_layers(sched2,0)\n",
    "lts.sim(geom,smb_regrid,bmb_regrid,sched2)\n",
    "geom.initialize_layers(sched3,0)\n",
    "lts.sim(geom,smb_regrid,bmb_regrid,sched3)"
   ]
  },
  {
   "cell_type": "markdown",
   "metadata": {},
   "source": [
    "## Plot"
   ]
  },
  {
   "cell_type": "code",
   "execution_count": null,
   "metadata": {},
   "outputs": [],
   "source": [
    "plt.rcParams.update(figsizes.icml2022_full(height_to_width_ratio=0.75))\n",
    "\n",
    "\n",
    "fig,ax = plt.subplots(1,1)\n",
    "ages = [50,200,300]\n",
    "offsets = [-12,-12,-12]\n",
    "age_indices = []\n",
    "midway = int(geom.age_iso.size/2)\n",
    "for age in ages:\n",
    "    age_indices.append(midway + np.argmin(np.abs(geom.age_iso[midway:]-age)))\n",
    "plotting_utils.plot_layers(geom.x,geom.bs.flatten(),geom.ss.flatten(),geom.dsum_iso[:,0,age_indices],geom.age_iso[age_indices],trackers=geom.extract_active_trackers(),ax=ax,color=plotting_utils.color_opts[\"colors\"][\"boundary_condition\"])\n",
    "for i,age in enumerate(age_indices):\n",
    "    ax.annotate(\"age = {:.0f}a\".format(geom.age_iso[age]),xy=(0,geom.bs.flatten()[0]+geom.dsum_iso[0,0,age]),xycoords=\"data\",textcoords=\"offset points\",xytext=(0,offsets[i]))\n",
    "\n",
    "ax.set_xlabel(\"Distance [km]\")\n",
    "ax.set_ylabel(\"Elevation [m.a.s.l.]\")\n",
    "ax.spines['top'].set_visible(False)\n",
    "ax.spines['right'].set_visible(False)\n",
    "\n",
    "ax.spines['bottom'].set_bounds(0-0.001,geom.x[-1]/1e3+0.001)\n",
    "\n",
    "fig_name = Path(output_dir,\"paper_figures\",\"LMI_Body\",\"LMI_Body.pdf\")\n",
    "fig_name.parent.mkdir(parents=True,exist_ok=True)\n",
    "fig.savefig(fig_name)\n",
    "\n"
   ]
  },
  {
   "cell_type": "code",
   "execution_count": null,
   "metadata": {},
   "outputs": [],
   "source": []
  }
 ],
 "metadata": {
  "kernelspec": {
   "display_name": "firedrake",
   "language": "python",
   "name": "python3"
  },
  "language_info": {
   "codemirror_mode": {
    "name": "ipython",
    "version": 3
   },
   "file_extension": ".py",
   "mimetype": "text/x-python",
   "name": "python",
   "nbconvert_exporter": "python",
   "pygments_lexer": "ipython3",
   "version": "3.9.16"
  },
  "orig_nbformat": 4
 },
 "nbformat": 4,
 "nbformat_minor": 2
}

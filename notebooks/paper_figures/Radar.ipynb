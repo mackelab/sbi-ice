{
 "cells": [
  {
   "cell_type": "code",
   "execution_count": null,
   "metadata": {},
   "outputs": [],
   "source": [
    "%load_ext autoreload\n",
    "%autoreload 2\n",
    "\n",
    "import numpy as np\n",
    "import scipy.io\n",
    "from pathlib import Path\n",
    "import matplotlib.pyplot as plt\n",
    "import matplotlib as mpl\n",
    "from matplotlib.ticker import FormatStrFormatter\n",
    "\n",
    "from tueplots import figsizes\n",
    "from sbi_ice.utils import plotting_utils,misc\n",
    "data_dir,output_dir = misc.get_data_output_dirs()\n",
    "color_opts = plotting_utils.setup_plots()\n"
   ]
  },
  {
   "cell_type": "code",
   "execution_count": null,
   "metadata": {},
   "outputs": [],
   "source": [
    "print(Path(data_dir,\"Ekstrom\",\"IRH_data\",\"Ekstroem_flowline_GPR_IRH_data.mat\"))\n",
    "mat = scipy.io.loadmat(Path(data_dir,\"Ekstrom\",\"IRH_data\",\"Ekstroem_flowline_GPR_IRH_data.mat\"))\n",
    "shelf_mask = scipy.io.loadmat(Path(data_dir,\"Ekstrom\",\"IRH_data\",\"LayerData_flowline_mask.mat\"))['save_in'].astype(bool).flatten()\n"
   ]
  },
  {
   "cell_type": "code",
   "execution_count": null,
   "metadata": {},
   "outputs": [],
   "source": [
    "distance = mat['distance'].flatten()\n",
    "print(distance.shape)\n",
    "indices = np.arange(0,distance.size)\n",
    "print(mat[\"elev_layers\"].shape)\n",
    "nl,ns = mat[\"elev_layers\"].shape\n",
    "\n",
    "base = mat[\"elev_sur_bedmachine\"].flatten() - mat[\"thickness_bedmachine\"].flatten()\n",
    "\n",
    "xg = -296432\n",
    "yg=1979538\n",
    "xg1 = -291673\n",
    "yg1=1996013\n",
    "gl_pos = distance[shelf_mask][0]\n",
    "minind = np.argmin(((mat[\"psX\"][0]-xg)**2+(mat[\"psY\"][0]-yg)**2))\n",
    "minind1 = np.argmin(((mat[\"psX\"][0]-xg1)**2+(mat[\"psY\"][0]-yg1)**2))\n",
    "\n",
    "RefHeight = np.max(mat[\"elev_sur_bedmachine\"].flatten()[shelf_mask]+0.1*np.max(mat[\"elev_sur_bedmachine\"].flatten()))\n",
    "print(RefHeight)\n",
    "MinElevation = -1200\n",
    "\n",
    "ylim_base=[-150,100]\n",
    "crit_indices = [2715,3115]\n",
    "mask = (indices > crit_indices[0]) & (indices < crit_indices[1])\n",
    "xlim_base = [distance[crit_indices[0]],distance[crit_indices[1]]]\n"
   ]
  },
  {
   "cell_type": "code",
   "execution_count": null,
   "metadata": {},
   "outputs": [],
   "source": [
    "def radarplot(x,xmask = None,box = True,xlim=None,ylim=None,label_layers = False):\n",
    "    plt.rcParams.update(figsizes.icml2022_full(height_to_width_ratio=0.7))\n",
    "    plt.rcParams.update({'font.size': 12,\"axes.titlesize\": 12,\"axes.labelsize\": 12,\"xtick.labelsize\" : 12,\"ytick.labelsize\": 12})\n",
    "    fig,ax = plt.subplots()\n",
    "\n",
    "    if xmask is None:\n",
    "        xmask = np.ones(x.shape,dtype=bool)\n",
    "\n",
    "    ax.fill_between(x[xmask]-gl_pos,mat[\"elev_sur_bedmachine\"].flatten()[xmask],base[xmask],color=\"black\",alpha=0.075,linewidth=0.0)\n",
    "\n",
    "    if box:\n",
    "        rect = mpl.patches.Rectangle((xlim_base[0]-gl_pos, ylim_base[0]), xlim_base[1]-xlim_base[0], ylim_base[1]-ylim_base[0],\n",
    "                                        linestyle=\"solid\", linewidth=1.5, edgecolor=color_opts[\"colors\"][\"boundary_condition\"], facecolor=\"none\",\n",
    "                                        zorder=10)\n",
    "        ax.add_patch(rect)\n",
    "    else:\n",
    "        ax.set_xticks(np.linspace(x[xmask][0]-gl_pos,x[xmask][-1]-gl_pos,5))\n",
    "    for kk in range(0,nl):\n",
    "        ax.plot(x[xmask]-gl_pos,mat[\"elev_layers\"][kk,xmask],color = color_opts[\"colors\"][\"observation\"],linewidth=1.0)\n",
    "        if label_layers:\n",
    "            ax.text(x[xmask][kk*10]-gl_pos,mat[\"elev_layers\"][kk,xmask][kk*10],str(kk+1),fontsize=15,color=\"black\",\n",
    "                    horizontalalignment='left',verticalalignment='center')\n",
    "    ax.plot(x[xmask]-gl_pos,base[xmask],\"black\",linewidth=1.0)\n",
    "    ax.plot(x[xmask]-gl_pos,mat[\"elev_bed_bedmachine\"].flatten()[xmask],linewidth=1.0,color=\"black\")\n",
    "    ax.plot(x[xmask]-gl_pos,mat[\"elev_sur_bedmachine\"].flatten()[xmask],linewidth=1.0,color=\"black\")\n",
    "\n",
    "\n",
    "\n",
    "\n",
    "    coords = np.vstack((np.concatenate((x[xmask]-gl_pos, x[xmask][::-1]-gl_pos)), np.concatenate((mat[\"elev_sur_bedmachine\"].flatten()[xmask]*0+RefHeight, mat[\"elev_sur_bedmachine\"].flatten()[xmask][::-1]))))\n",
    "    patch1 = mpl.patches.Polygon(xy=coords.T,color=np.array([136, 233, 253])/255) #çolor in sky\n",
    "    coords = np.vstack((np.concatenate((x[xmask]-gl_pos, x[xmask][::-1]-gl_pos)), np.concatenate((base[xmask], base[xmask][::-1]*0 + MinElevation))))\n",
    "    patch2 = mpl.patches.Polygon(xy=coords.T,color=np.array([119, 158, 185])/255) #color in ocean\n",
    "    coords = np.vstack((np.concatenate((x[xmask]-gl_pos, x[xmask][::-1]-gl_pos)), np.concatenate((mat[\"elev_bed_bedmachine\"].flatten()[xmask], mat[\"elev_bed_bedmachine\"].flatten()[xmask][::-1]*0 + MinElevation)))) #color in ground\n",
    "    patch3 = mpl.patches.Polygon(xy=coords.T,color=np.array([168, 104, 66])/255)\n",
    "    ax.add_patch(patch1)\n",
    "    ax.add_patch(patch2)\n",
    "    ax.add_patch(patch3)\n",
    "    if xlim is not None:\n",
    "        ax.set_xlim(xlim)\n",
    "    if ylim is not None:\n",
    "        ax.set_ylim(ylim)\n",
    "\n",
    "    ax.set_xlabel(\"Distance from GL [km]\")\n",
    "    ax.set_ylabel(\"Elevation [m.a.s.l.]\")\n",
    "    ax.spines['bottom'].set_bounds(x[xmask][0]-gl_pos+0.005,x[xmask][-1]-gl_pos)\n",
    "    ax.xaxis.set_major_formatter(FormatStrFormatter('%.1f'))\n",
    "\n",
    "    return fig,ax\n",
    "\n",
    "\n"
   ]
  },
  {
   "cell_type": "code",
   "execution_count": null,
   "metadata": {},
   "outputs": [],
   "source": [
    "\n",
    "fig,ax = radarplot(distance,xmask=shelf_mask)\n",
    "fig_name = Path(output_dir,\"paper_figures\",\"Radar\",\"radar_whole_shelf.pdf\")\n",
    "fig_name.parent.mkdir(parents=True,exist_ok=True)\n",
    "fig.savefig(fig_name)\n"
   ]
  },
  {
   "cell_type": "code",
   "execution_count": null,
   "metadata": {},
   "outputs": [],
   "source": [
    "fig,ax = radarplot(distance,box=False,xmask=shelf_mask*mask,ylim=ylim_base,label_layers=True)\n",
    "fig_name = Path(output_dir,\"paper_figures\",\"Radar\",\"zoomed_shelf.pdf\")\n",
    "fig_name.parent.mkdir(parents=True,exist_ok=True)\n",
    "fig.savefig(fig_name)\n"
   ]
  },
  {
   "cell_type": "code",
   "execution_count": null,
   "metadata": {},
   "outputs": [],
   "source": []
  }
 ],
 "metadata": {
  "kernelspec": {
   "display_name": "firedrake",
   "language": "python",
   "name": "python3"
  },
  "language_info": {
   "codemirror_mode": {
    "name": "ipython",
    "version": 3
   },
   "file_extension": ".py",
   "mimetype": "text/x-python",
   "name": "python",
   "nbconvert_exporter": "python",
   "pygments_lexer": "ipython3",
   "version": "3.9.16"
  },
  "orig_nbformat": 4
 },
 "nbformat": 4,
 "nbformat_minor": 2
}

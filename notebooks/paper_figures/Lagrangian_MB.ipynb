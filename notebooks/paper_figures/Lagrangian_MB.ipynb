{
 "cells": [
  {
   "cell_type": "code",
   "execution_count": null,
   "metadata": {},
   "outputs": [],
   "source": [
    "%load_ext autoreload\n",
    "%autoreload 2\n",
    "\n",
    "import numpy as np\n",
    "import scipy.io\n",
    "from pathlib import Path\n",
    "import matplotlib.pyplot as plt\n",
    "from sbi_ice.simulators import Layer_Tracing_Sim as lts\n",
    "import pandas as pd\n",
    "from tueplots import figsizes\n",
    "from sbi_ice.utils import plotting_utils,misc\n",
    "data_dir,output_dir = misc.get_data_output_dirs()\n",
    "color_opts = plotting_utils.setup_plots()\n"
   ]
  },
  {
   "cell_type": "markdown",
   "metadata": {},
   "source": [
    "# Lagrangian Mass Balance Plot\n",
    "\n",
    "Here we create a figure comparing the features of the real data and simulated outputs, which we use to motivate future exploration of a Lagrangian paramtereization of mass balance."
   ]
  },
  {
   "cell_type": "code",
   "execution_count": null,
   "metadata": {},
   "outputs": [],
   "source": [
    "print(Path(data_dir,\"Ekstrom\",\"IRH_data\",\"Ekstroem_flowline_GPR_IRH_data.mat\"))\n",
    "mat = scipy.io.loadmat(Path(data_dir,\"Ekstrom\",\"IRH_data\",\"Ekstroem_flowline_GPR_IRH_data.mat\"))\n",
    "shelf_mask = scipy.io.loadmat(Path(data_dir,\"Ekstrom\",\"IRH_data\",\"LayerData_flowline_mask.mat\"))['save_in'].astype(bool).flatten()\n"
   ]
  },
  {
   "cell_type": "markdown",
   "metadata": {},
   "source": [
    "## Load real layer data"
   ]
  },
  {
   "cell_type": "code",
   "execution_count": null,
   "metadata": {},
   "outputs": [],
   "source": [
    "distance = mat[\"distance\"].flatten()\n",
    "gl_pos = distance[shelf_mask][0]\n",
    "\n",
    "xmin,xmax = 100,125\n",
    "xmask = (distance>xmin) & (distance<xmax)\n",
    "\n",
    "fig,ax = plt.subplots(1,1,figsize=(5,5))\n",
    "for i in range(0,mat[\"elev_layers\"].shape[0]):\n",
    "    ax.plot(distance[xmask],mat[\"elev_layers\"][i,xmask],color = color_opts[\"colors\"][\"observation\"])\n",
    "base = mat[\"elev_sur_bedmachine\"].flatten() - mat[\"thickness_bedmachine\"].flatten()\n",
    "\n",
    "#Also plot surface elevation\n",
    "ax.plot(distance[xmask],mat[\"elev_sur_bedmachine\"].flatten()[xmask],color=\"k\",linewidth=2)"
   ]
  },
  {
   "cell_type": "markdown",
   "metadata": {},
   "source": [
    "## Create illustrative exmaple domain for simulator and simulate layers"
   ]
  },
  {
   "cell_type": "code",
   "execution_count": null,
   "metadata": {},
   "outputs": [],
   "source": [
    "data_file = Path(data_dir,\"Toy\",\"setup_files\",\"flowtube_short.csv\")\n",
    "\n",
    "df = pd.read_csv(data_file)\n",
    "xmb = df[\"x_coord\"].to_numpy()\n",
    "tmb = df[\"tmb\"].to_numpy() \n",
    "Lx = xmb.max() - xmb.min()\n",
    "\n",
    "nx_iso             = 200\n",
    "ny_iso             = 1\n",
    "dt                 = 0.5 "
   ]
  },
  {
   "cell_type": "code",
   "execution_count": null,
   "metadata": {},
   "outputs": [],
   "source": [
    "geom = lts.Geom(nx_iso=nx_iso,ny_iso=ny_iso)\n",
    "\n",
    "smb = 0.3 + 1.0*np.exp(-((xmb-0.1*Lx)/(0.05*Lx))**2)\n",
    "bmb = 0.5*np.ones_like(xmb)\n",
    "smb_regrid,bmb_regrid = lts.init_geom_from_fname(geom,data_file,smb=smb,bmb=bmb)"
   ]
  },
  {
   "cell_type": "code",
   "execution_count": null,
   "metadata": {},
   "outputs": [],
   "source": [
    "dt=0.5\n",
    "n_surface = 1\n",
    "n_base = 10\n",
    "time_phase = 500\n",
    "\n",
    "sched = lts.Scheduele(time_phase,dt,n_surface,n_base)"
   ]
  },
  {
   "cell_type": "code",
   "execution_count": null,
   "metadata": {},
   "outputs": [],
   "source": [
    "geom.initialize_layers(sched,10)\n",
    "lts.sim(geom,smb_regrid,bmb_regrid,sched)"
   ]
  },
  {
   "cell_type": "code",
   "execution_count": null,
   "metadata": {},
   "outputs": [],
   "source": [
    "plot_indices = [-50,-100,-150,-200]\n",
    "fig,axs = plotting_utils.plot_isochrones_1d(geom.x,geom.bs.flatten(),geom.ss.flatten(),geom.dsum_iso[:,0,plot_indices],geom.age_iso[plot_indices],bmb_regrid,smb_regrid,real_layers=None,trackers=geom.extract_active_trackers())\n"
   ]
  },
  {
   "cell_type": "code",
   "execution_count": null,
   "metadata": {},
   "outputs": [],
   "source": [
    "fig,ax = plt.subplots(1,1,figsize=(5,5))\n",
    "#Plot the plot_indices of the synthetic model\n",
    "for idx in plot_indices:\n",
    "    ax.plot(geom.x/1e3,geom.dsum_iso[:,0,idx]+geom.bs.flatten(),label=str(idx),color=color_opts[\"colors\"][\"prior\"])\n",
    "\n",
    "ax.plot(geom.x/1e3,geom.ss.flatten(),color=\"k\")"
   ]
  },
  {
   "cell_type": "markdown",
   "metadata": {},
   "source": [
    "# Plot comparison"
   ]
  },
  {
   "cell_type": "code",
   "execution_count": null,
   "metadata": {},
   "outputs": [],
   "source": [
    "plt.rcParams.update(figsizes.icml2022_full(height_to_width_ratio=0.8))\n",
    "plot_indices = [-100,-200,-300,-400]\n",
    "\n",
    "fig, axs = plt.subplot_mosaic([[\"a\", \"b\"], [\"a\", \"c\"]],\n",
    "                              layout=\"constrained\",\n",
    "                              height_ratios = [0.3,0.7])\n",
    "\n",
    "\n",
    "ax1 = axs[\"a\"]\n",
    "ax2 = axs[\"b\"]\n",
    "ax3 = axs[\"c\"]\n",
    "geom_mask = geom.x<25e3\n",
    "\n",
    "ax1.plot(distance[xmask],mat[\"elev_sur_bedmachine\"].flatten()[xmask],color=\"k\",linewidth=2)\n",
    "for i in range(0,mat[\"elev_layers\"].shape[0]):\n",
    "    ax1.plot(distance[xmask],mat[\"elev_layers\"][i,xmask],color = color_opts[\"colors\"][\"observation\"])\n",
    "ax1.fill_between(distance[xmask],-100.0*np.ones_like(distance[xmask]),mat[\"elev_sur_bedmachine\"].flatten()[xmask],color=\"k\",alpha=0.075,linewidth=0.0)\n",
    "ax1.spines[\"bottom\"].set_bounds(distance[xmask][0]-0.001,distance[xmask][-1])\n",
    "ax1.set_xlabel(\"Distance from GL [km]\")\n",
    "ax1.set_ylabel(\"Elevation [m.a.s.l.]\")\n",
    "ax1.annotate(r\"$v_{x}$\",xy=(115,41),xytext=(110,40),arrowprops=dict(arrowstyle=\"->\"))\n",
    "ax1.vlines(116.9,-90,(mat[\"elev_sur_bedmachine\"].flatten()[xmask])[np.argmin(np.abs(distance[xmask]-116.9))],linestyle=\"--\",color=\"k\")\n",
    "ax1.set_ylim(-90,45)\n",
    "\n",
    "\n",
    "ax2.plot(geom.x[geom_mask]/1e3, smb_regrid.flatten()[geom_mask],color=color_opts[\"colors\"][\"prior\"])\n",
    "ax2.set_ylabel(\"$\\dot{a}$ [m/a]\")\n",
    "\n",
    "ax3.plot(geom.x[geom_mask]/1e3, geom.ss.flatten()[geom_mask],color=\"k\",linewidth=2)\n",
    "for idx in plot_indices:\n",
    "    ax3.plot(geom.x[geom_mask]/1e3,geom.dsum_iso[geom_mask,0,idx]+geom.bs.flatten()[geom_mask],label=str(idx),color=color_opts[\"colors\"][\"prior\"])\n",
    "ax3.fill_between(geom.x[geom_mask]/1e3,-90.0*np.ones_like(geom.x[geom_mask]),geom.ss.flatten()[geom_mask],color=\"k\",alpha=0.075,linewidth=0.0)\n",
    "ax3.spines[\"bottom\"].set_bounds(geom.x[0]/1e3-0.001,geom.x[geom_mask][-1]/1e3)\n",
    "ax3.set_xlabel(\"Distance [km]\")\n",
    "ax3.set_ylabel(\"Elevation [m.a.s.l.]\")\n",
    "ax3.annotate(r\"$v_{x}$\",xy=(20,26),xytext=(15,25),arrowprops=dict(arrowstyle=\"->\"))\n",
    "\n",
    "ax3.set_ylim(-60,30)\n",
    "\n",
    "plt.setp(ax2.get_xticklabels(), visible=False)\n",
    "ax2.tick_params(\n",
    "    axis=\"x\",          # changes apply to the x-axis\n",
    "    which=\"both\",      # both major and minor ticks are affected\n",
    "    bottom=False,      # ticks along the bottom edge are off\n",
    ")\n",
    "ax2.spines[[\"bottom\",\"top\",\"right\"]].set_visible(False)\n",
    "\n",
    "import matplotlib.transforms as mtransforms\n",
    "\n",
    "\n",
    "for label, ax in axs.items():\n",
    "    # label physical distance to the left and up:\n",
    "    trans = mtransforms.ScaledTranslation(6/72, 0/72, fig.dpi_scale_trans)\n",
    "    ax.text(0.0, 1.0, label, transform=ax.transAxes + trans,\n",
    "            fontsize=\"medium\", va=\"bottom\", fontfamily=\"sans-serif\")\n",
    "\n",
    "# fig_name = Path(output_dir,\"paper_figures\",\"Lagrangian_MB\",\"Lagrangian_MB.pdf\")\n",
    "# fig_name.parent.mkdir(parents=True,exist_ok=True)\n",
    "# fig.savefig(fig_name)\n",
    "\n"
   ]
  },
  {
   "cell_type": "code",
   "execution_count": null,
   "metadata": {},
   "outputs": [],
   "source": []
  }
 ],
 "metadata": {
  "kernelspec": {
   "display_name": "firedrake",
   "language": "python",
   "name": "python3"
  },
  "language_info": {
   "codemirror_mode": {
    "name": "ipython",
    "version": 3
   },
   "file_extension": ".py",
   "mimetype": "text/x-python",
   "name": "python",
   "nbconvert_exporter": "python",
   "pygments_lexer": "ipython3",
   "version": "3.9.16"
  }
 },
 "nbformat": 4,
 "nbformat_minor": 2
}
